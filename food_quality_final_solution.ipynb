{
 "cells": [
  {
   "cell_type": "code",
   "execution_count": 1,
   "metadata": {
    "_cell_guid": "b1076dfc-b9ad-4769-8c92-a6c4dae69d19",
    "_uuid": "8f2839f25d086af736a60e9eeb907d3b93b6e0e5"
   },
   "outputs": [],
   "source": [
    "import numpy as np\n",
    "import pandas as pd\n",
    "from sklearn.model_selection import train_test_split\n",
    "import lightgbm as lgb\n",
    "from lightgbm import LGBMClassifier\n",
    "from sklearn.metrics import log_loss\n",
    "from tqdm import tqdm_notebook\n",
    "from sklearn.utils import shuffle"
   ]
  },
  {
   "cell_type": "code",
   "execution_count": 2,
   "metadata": {
    "_cell_guid": "79c7e3d0-c299-4dcb-8224-4455121ee9b0",
    "_uuid": "d629ff2d2480ee46fbb7e2d37f6b5fab8052498a"
   },
   "outputs": [
    {
     "name": "stderr",
     "output_type": "stream",
     "text": [
      "/opt/conda/lib/python3.6/site-packages/ipykernel_launcher.py:5: FutureWarning: Sorting because non-concatenation axis is not aligned. A future version\n",
      "of pandas will change to not sort by default.\n",
      "\n",
      "To accept the future behavior, pass 'sort=False'.\n",
      "\n",
      "To retain the current behavior and silence the warning, pass 'sort=True'.\n",
      "\n",
      "  \"\"\"\n"
     ]
    }
   ],
   "source": [
    "train = pd.read_feather(\"../input/food-quality-baseline/train.fr\")\n",
    "test = pd.read_feather(\"../input/food-quality-baseline/test.fr\")\n",
    "sample_sub = pd.read_feather('../input/food-quality-baseline/sample_sub.fr')\n",
    "ID_COL, TARGET_COL = 'ID', 'Inspection_Results'\n",
    "df = pd.concat([train, test]).reset_index(drop=True)"
   ]
  },
  {
   "cell_type": "code",
   "execution_count": 3,
   "metadata": {},
   "outputs": [],
   "source": [
    "def get_date_features(df):\n",
    "    df['Date'] = pd.to_datetime(df[\"Date\"], format = \"%d-%m-%Y\", errors='coerce')\n",
    "    df['year'] = df['Date'].dt.year\n",
    "    df['month'] = df['Date'].dt.month\n",
    "    df['day'] = df['Date'].dt.day\n",
    "get_date_features(df)"
   ]
  },
  {
   "cell_type": "code",
   "execution_count": 4,
   "metadata": {},
   "outputs": [],
   "source": [
    "for c in ['FacilityID', 'FacilityName', 'LicenseNo', 'Geo_Loc']:\n",
    "    temp = df.sort_values(by='Date').groupby(c)['Date'].diff(1).sort_index()\n",
    "    df[f'next_Inspection_day_diff_{c}'] = temp.dt.days"
   ]
  },
  {
   "cell_type": "code",
   "execution_count": 5,
   "metadata": {},
   "outputs": [],
   "source": [
    "df[['prev_Reason', 'prev_SectionViolations']] = df.sort_values(by='Date').groupby('FacilityID')[['Reason', 'SectionViolations']].shift(1).sort_index()"
   ]
  },
  {
   "cell_type": "code",
   "execution_count": 6,
   "metadata": {},
   "outputs": [],
   "source": [
    "for i in range(1, 6):\n",
    "    df[[f'next{i}_Reason_LicenseNo', f'next{i}_SectionViolations_LicenseNo', f'next{i}_RiskLevel_LicenseNo']] = df.sort_values(by='Date').groupby('LicenseNo')[['Reason', 'SectionViolations', 'RiskLevel']].shift(-i).sort_index()\n",
    "    \n",
    "for i in range(1, 6):\n",
    "    df[[f'next{i}_Reason_geoloc', f'next{i}_SectionViolations_geoloc', f'next{i}_RiskLevel_geoloc']] = df.sort_values(by='Date').groupby('Geo_Loc')[['Reason', 'SectionViolations', 'RiskLevel']].shift(-i).sort_index()\n",
    "    \n",
    "for i in range(1, 6):\n",
    "    df[[f'next{i}_Reason_id', f'next{i}_SectionViolations_id', f'next{i}_RiskLevel_id']] = df.sort_values(by='Date').groupby('FacilityID')[['Reason', 'SectionViolations', 'RiskLevel']].shift(-i).sort_index()\n",
    "    \n",
    "for i in range(1, 6):\n",
    "    df[[f'next{i}_Reason_name', f'next{i}_SectionViolations_name', f'next{i}_RiskLevel_name']] = df.sort_values(by='Date').groupby('FacilityName')[['Reason', 'SectionViolations', 'RiskLevel']].shift(-i).sort_index()"
   ]
  },
  {
   "cell_type": "code",
   "execution_count": 7,
   "metadata": {},
   "outputs": [],
   "source": [
    "df['SectionViolations_cumsum'] = df.sort_values(by='Date').groupby('FacilityID')['SectionViolations'].cumsum().shift(-1).sort_index()"
   ]
  },
  {
   "cell_type": "code",
   "execution_count": 8,
   "metadata": {},
   "outputs": [],
   "source": [
    "grp = df.groupby('year').agg({'SectionViolations': ['max', 'sum', 'mean', 'min'], 'FacilityID': ['nunique' ,'size'], 'Geo_Loc': ['nunique','size'],\n",
    "                              'FacilityName': ['nunique','size'], 'LocationID': ['nunique','size'], 'LicenseNo': ['nunique','size'] ,'Type': ['nunique' ,'size']})\n",
    "grp.columns = ['_'.join(c).strip('_') + '_yearwise' for c in grp.columns]\n",
    "df = pd.merge(df, grp, how = 'left', on ='year')"
   ]
  },
  {
   "cell_type": "code",
   "execution_count": 9,
   "metadata": {},
   "outputs": [],
   "source": [
    "grp = df.groupby(['FacilityID', 'Date']).agg({'SectionViolations': ['max', 'sum', 'mean', 'min'], 'Geo_Loc': ['nunique','size'],'Reason': ['nunique', 'size'],\n",
    "                                     'FacilityName': ['nunique','size'], 'LocationID': ['nunique','size'], 'LicenseNo': ['nunique','size'] ,'Type': ['nunique' ,'size']})\n",
    "grp.columns = ['_'.join(c).strip('_') + '_FacilityID_and_Date_based' for c in grp.columns]\n",
    "df = pd.merge(df, grp, how = 'left', on =['FacilityID', 'Date'])"
   ]
  },
  {
   "cell_type": "code",
   "execution_count": 10,
   "metadata": {},
   "outputs": [],
   "source": [
    "grp = df.groupby(['FacilityName', 'Date']).agg({'SectionViolations': ['max', 'sum', 'mean', 'min'], 'Geo_Loc': ['nunique','size'],'Reason': ['nunique', 'size'],\n",
    "                                     'FacilityID': ['nunique','size'], 'LocationID': ['nunique','size'], 'LicenseNo': ['nunique','size'] ,'Type': ['nunique' ,'size']})\n",
    "grp.columns = ['_'.join(c).strip('_') + '_FacilityName_and_Date_based' for c in grp.columns]\n",
    "df = pd.merge(df, grp, how = 'left', on =['FacilityName', 'Date'])"
   ]
  },
  {
   "cell_type": "code",
   "execution_count": 11,
   "metadata": {},
   "outputs": [],
   "source": [
    "grp = df.groupby(['LicenseNo', 'Date']).agg({'SectionViolations': ['max', 'sum', 'mean', 'min'], 'Geo_Loc': ['nunique','size'],'Reason': ['nunique', 'size'],\n",
    "                                     'FacilityID': ['nunique','size'], 'LocationID': ['nunique','size'], 'LicenseNo': ['nunique','size'] ,'Type': ['nunique' ,'size']})\n",
    "grp.columns = ['_'.join(c).strip('_') + '_LicenseNo_and_Date_based' for c in grp.columns]\n",
    "df = pd.merge(df, grp, how = 'left', on =['LicenseNo', 'Date'])"
   ]
  },
  {
   "cell_type": "code",
   "execution_count": 12,
   "metadata": {},
   "outputs": [],
   "source": [
    "grp = df.groupby('LicenseNo').agg({'SectionViolations': ['mean'], 'FacilityID': ['nunique'],\n",
    "                              'FacilityName': ['nunique'], 'LocationID': ['nunique'], 'Geo_Loc': ['nunique']})\n",
    "grp.columns = ['_'.join(c).strip('_') + '_Geo_Loc_based' for c in grp.columns]\n",
    "df = pd.merge(df, grp, how = 'left', on ='LicenseNo')"
   ]
  },
  {
   "cell_type": "code",
   "execution_count": 13,
   "metadata": {},
   "outputs": [],
   "source": [
    "grp = df.groupby('FacilityID').agg({'SectionViolations': ['max'], 'Geo_Loc': ['nunique'],\n",
    "                              'FacilityName': ['nunique'], 'LocationID': ['nunique'], 'LicenseNo': ['nunique']})\n",
    "grp.columns = ['_'.join(c).strip('_') + '_FacilityID_based' for c in grp.columns]\n",
    "df = pd.merge(df, grp, how = 'left', on ='FacilityID')"
   ]
  },
  {
   "cell_type": "code",
   "execution_count": 14,
   "metadata": {},
   "outputs": [],
   "source": [
    "grp = df.groupby('Reason').agg({'SectionViolations': ['max'], 'FacilityID': ['nunique'], 'Geo_Loc': ['nunique'],\n",
    "                              'FacilityName': ['nunique'], 'LocationID': ['nunique'], 'LicenseNo': ['nunique']})\n",
    "grp.columns = ['_'.join(c).strip('_') + '_Reason_based' for c in grp.columns]\n",
    "df = pd.merge(df, grp, how = 'left', on ='Reason')"
   ]
  },
  {
   "cell_type": "code",
   "execution_count": 15,
   "metadata": {},
   "outputs": [],
   "source": [
    "df[f'n_days_from_start'] = (df['Date'].dt.date - df['Date'].min().date()).dt.days\n",
    "df[f'n_weeks_from_start'] = (df['Date'].dt.date - df['Date'].min().date()).dt.days//7\n",
    "df[f'n_days_from_end'] = (df['Date'].max().date() - df['Date'].dt.date).dt.days\n",
    "df[f'n_weeks_from_end'] = (df['Date'].max().date() - df['Date'].dt.date).dt.days//7"
   ]
  },
  {
   "cell_type": "code",
   "execution_count": 16,
   "metadata": {},
   "outputs": [
    {
     "name": "stderr",
     "output_type": "stream",
     "text": [
      "/opt/conda/lib/python3.6/site-packages/ipykernel_launcher.py:1: TqdmDeprecationWarning: This function will be removed in tqdm==5.0.0\n",
      "Please use `tqdm.notebook.tqdm` instead of `tqdm.tqdm_notebook`\n",
      "  \"\"\"Entry point for launching an IPython kernel.\n"
     ]
    },
    {
     "data": {
      "application/vnd.jupyter.widget-view+json": {
       "model_id": "5a3e3309f69b470ab57ffb3171bd81e2",
       "version_major": 2,
       "version_minor": 0
      },
      "text/plain": [
       "HBox(children=(FloatProgress(value=0.0, max=3.0), HTML(value='')))"
      ]
     },
     "metadata": {},
     "output_type": "display_data"
    },
    {
     "name": "stdout",
     "output_type": "stream",
     "text": [
      "\n"
     ]
    }
   ],
   "source": [
    "for c in tqdm_notebook(['FacilityID', 'FacilityName', 'LicenseNo']):\n",
    "    df[f'next_inspection_day_diff_{c}'] = df.sort_values(by='Date').groupby(c)['n_days_from_start'].apply(lambda x: x - x.shift(-1))\n",
    "    df[f'prev_inspection_day_diff_{c}'] = df.sort_values(by='Date').groupby(c)['n_days_from_start'].apply(lambda x: x - x.shift(1))"
   ]
  },
  {
   "cell_type": "code",
   "execution_count": 17,
   "metadata": {},
   "outputs": [
    {
     "name": "stderr",
     "output_type": "stream",
     "text": [
      "/opt/conda/lib/python3.6/site-packages/ipykernel_launcher.py:1: TqdmDeprecationWarning: This function will be removed in tqdm==5.0.0\n",
      "Please use `tqdm.notebook.tqdm` instead of `tqdm.tqdm_notebook`\n",
      "  \"\"\"Entry point for launching an IPython kernel.\n"
     ]
    },
    {
     "data": {
      "application/vnd.jupyter.widget-view+json": {
       "model_id": "9b5bb9bcf22a474aae0653cdd3e48b49",
       "version_major": 2,
       "version_minor": 0
      },
      "text/plain": [
       "HBox(children=(FloatProgress(value=0.0, max=3.0), HTML(value='')))"
      ]
     },
     "metadata": {},
     "output_type": "display_data"
    },
    {
     "name": "stdout",
     "output_type": "stream",
     "text": [
      "\n"
     ]
    }
   ],
   "source": [
    "for c in tqdm_notebook(['FacilityID', 'FacilityName', 'LicenseNo']):\n",
    "    df[f'next2_inspection_day_diff_{c}'] = df.sort_values(by='Date').groupby(c)['n_days_from_start'].apply(lambda x: x - x.shift(-2))\n",
    "    df[f'prev2_inspection_day_diff_{c}'] = df.sort_values(by='Date').groupby(c)['n_days_from_start'].apply(lambda x: x - x.shift(2))"
   ]
  },
  {
   "cell_type": "code",
   "execution_count": 18,
   "metadata": {},
   "outputs": [],
   "source": [
    "df[f'n_days_from_start_fid'] = df.groupby('FacilityID')['Date'].apply(lambda x: (x - x.min()).dt.days)\n",
    "df[f'n_days_from_end_fid'] = df.groupby('FacilityID')['Date'].apply(lambda x: (x.max() - x).dt.days)\n",
    "df[f'n_days_from_end_lno'] = df.groupby('LicenseNo')['Date'].apply(lambda x: (x.max() - x).dt.days)\n",
    "df[f'n_days_from_start_lno'] = df.groupby('LicenseNo')['Date'].apply(lambda x: (x-x.min()).dt.days)"
   ]
  },
  {
   "cell_type": "code",
   "execution_count": 19,
   "metadata": {},
   "outputs": [],
   "source": [
    "df[f'n_days_from_start_fn'] = df.groupby('FacilityName')['Date'].apply(lambda x: (x - x.min()).dt.days)\n",
    "df[f'n_days_from_end_fn'] = df.groupby('FacilityName')['Date'].apply(lambda x: (x.max() - x).dt.days)\n",
    "df[f'n_days_from_start_geoloc'] = df.groupby('Geo_Loc')['Date'].apply(lambda x: (x - x.min()).dt.days)\n",
    "df[f'n_days_from_end_geoloc'] = df.groupby('Geo_Loc')['Date'].apply(lambda x: (x.max() - x).dt.days)"
   ]
  },
  {
   "cell_type": "code",
   "execution_count": 20,
   "metadata": {},
   "outputs": [
    {
     "name": "stderr",
     "output_type": "stream",
     "text": [
      "/opt/conda/lib/python3.6/site-packages/ipykernel_launcher.py:2: TqdmDeprecationWarning: This function will be removed in tqdm==5.0.0\n",
      "Please use `tqdm.notebook.tqdm` instead of `tqdm.tqdm_notebook`\n",
      "  \n"
     ]
    },
    {
     "data": {
      "application/vnd.jupyter.widget-view+json": {
       "model_id": "36ce5769275f4c06ac88dd5e7c58a0c8",
       "version_major": 2,
       "version_minor": 0
      },
      "text/plain": [
       "HBox(children=(FloatProgress(value=0.0, max=7.0), HTML(value='')))"
      ]
     },
     "metadata": {},
     "output_type": "display_data"
    },
    {
     "name": "stdout",
     "output_type": "stream",
     "text": [
      "\n"
     ]
    }
   ],
   "source": [
    "high_cardinality_cols = ['FacilityID', 'FacilityName', 'Geo_Loc', 'LicenseNo', 'Street', 'Type', 'LocationID']\n",
    "for c in tqdm_notebook(high_cardinality_cols):\n",
    "    temp = pd.Series(pd.factorize(df['Date'].astype('str') + df[c].astype('str'))[0])\n",
    "    temp =  temp.map(temp.value_counts())\n",
    "    df[f'Date_{c}_freq'] = temp"
   ]
  },
  {
   "cell_type": "code",
   "execution_count": 21,
   "metadata": {},
   "outputs": [],
   "source": [
    "cat_cols = ['City', 'Date', 'FacilityID', 'FacilityName', 'Geo_Loc', 'LicenseNo', 'LocationID', 'Reason', 'RiskLevel', 'State', 'Street', 'Type']\n",
    "obj_cols = df.select_dtypes('object').columns.tolist()\n",
    "cat_cols = list(set(cat_cols + obj_cols))\n",
    "df[cat_cols] = df[cat_cols].apply(lambda x: pd.factorize(x)[0])"
   ]
  },
  {
   "cell_type": "code",
   "execution_count": 22,
   "metadata": {},
   "outputs": [],
   "source": [
    "df[[c + '_freq' for c in cat_cols]] = df[cat_cols].apply(lambda x: x.map(x.value_counts()))"
   ]
  },
  {
   "cell_type": "code",
   "execution_count": 23,
   "metadata": {},
   "outputs": [],
   "source": [
    "train, test = df.iloc[:train.shape[0]], df.iloc[train.shape[0]:]\n",
    "test.reset_index(drop=True, inplace=True)\n",
    "target = train[TARGET_COL]\n",
    "features = [c for c in train.columns if c not in [ID_COL, TARGET_COL]]"
   ]
  },
  {
   "cell_type": "code",
   "execution_count": 24,
   "metadata": {},
   "outputs": [
    {
     "name": "stdout",
     "output_type": "stream",
     "text": [
      "247\n"
     ]
    }
   ],
   "source": [
    "print(len(features))"
   ]
  },
  {
   "cell_type": "code",
   "execution_count": 25,
   "metadata": {},
   "outputs": [],
   "source": [
    "X_trn, X_val, y_trn, y_val = train_test_split(train[features], target, test_size=0.1, stratify=target, random_state=10)\n",
    "X_test = test[features]"
   ]
  },
  {
   "cell_type": "code",
   "execution_count": 26,
   "metadata": {},
   "outputs": [
    {
     "name": "stdout",
     "output_type": "stream",
     "text": [
      "Training until validation scores don't improve for 100 rounds\n",
      "[100]\ttraining's multi_logloss: 0.461479\tvalid_1's multi_logloss: 0.470385\n",
      "[200]\ttraining's multi_logloss: 0.243531\tvalid_1's multi_logloss: 0.257929\n",
      "[300]\ttraining's multi_logloss: 0.160794\tvalid_1's multi_logloss: 0.180883\n",
      "[400]\ttraining's multi_logloss: 0.123716\tvalid_1's multi_logloss: 0.150214\n",
      "[500]\ttraining's multi_logloss: 0.10338\tvalid_1's multi_logloss: 0.136754\n",
      "[600]\ttraining's multi_logloss: 0.0902135\tvalid_1's multi_logloss: 0.130428\n",
      "[700]\ttraining's multi_logloss: 0.0803522\tvalid_1's multi_logloss: 0.127098\n",
      "[800]\ttraining's multi_logloss: 0.0723461\tvalid_1's multi_logloss: 0.125268\n",
      "[900]\ttraining's multi_logloss: 0.0655947\tvalid_1's multi_logloss: 0.12413\n",
      "[1000]\ttraining's multi_logloss: 0.0597837\tvalid_1's multi_logloss: 0.123348\n",
      "[1100]\ttraining's multi_logloss: 0.0547034\tvalid_1's multi_logloss: 0.122874\n",
      "[1200]\ttraining's multi_logloss: 0.0502738\tvalid_1's multi_logloss: 0.122569\n",
      "[1300]\ttraining's multi_logloss: 0.0463401\tvalid_1's multi_logloss: 0.122424\n",
      "[1400]\ttraining's multi_logloss: 0.0428739\tvalid_1's multi_logloss: 0.122286\n",
      "[1500]\ttraining's multi_logloss: 0.0398047\tvalid_1's multi_logloss: 0.122233\n",
      "[1600]\ttraining's multi_logloss: 0.0370915\tvalid_1's multi_logloss: 0.122237\n",
      "Early stopping, best iteration is:\n",
      "[1545]\ttraining's multi_logloss: 0.0385378\tvalid_1's multi_logloss: 0.122204\n",
      "Log loss for Model 1 is: 0.1222035685363286\n"
     ]
    }
   ],
   "source": [
    "clf = LGBMClassifier(learning_rate=0.01, colsample_bytree=0.3, reg_alpha=3, reg_lambda=3, max_depth=-1, n_estimators=2000, min_child_samples=15, num_leaves=141)\n",
    "_ = clf.fit(X_trn, y_trn, eval_set=[(X_trn, y_trn), (X_val, y_val)], verbose=100, early_stopping_rounds=100)\n",
    "predictions_val_lgb = clf.predict_proba(X_val)\n",
    "print(f\"Log loss for Model 1 is: {log_loss(y_val, predictions_val_lgb)}\")"
   ]
  },
  {
   "cell_type": "code",
   "execution_count": 27,
   "metadata": {},
   "outputs": [
    {
     "data": {
      "text/plain": [
       "<matplotlib.axes._subplots.AxesSubplot at 0x7faf463df3c8>"
      ]
     },
     "execution_count": 27,
     "metadata": {},
     "output_type": "execute_result"
    },
    {
     "data": {
      "image/png": "[encoded data removed]",
      "text/plain": [
       "<Figure size 432x288 with 1 Axes>"
      ]
     },
     "metadata": {
      "needs_background": "light"
     },
     "output_type": "display_data"
    }
   ],
   "source": [
    "fi = pd.Series(index=features, data = clf.feature_importances_)\n",
    "fi.sort_values(ascending=False)[:20][::-1].plot.barh()"
   ]
  },
  {
   "cell_type": "code",
   "execution_count": 28,
   "metadata": {},
   "outputs": [],
   "source": [
    "predictions_test_lgb = clf.predict_proba(X_test)"
   ]
  },
  {
   "cell_type": "code",
   "execution_count": 29,
   "metadata": {},
   "outputs": [],
   "source": [
    "target_mapper = {0:'FACILITY CHANGED',\n",
    "1:'FAIL',\n",
    "2:'FURTHER INSPECTION REQUIRED',\n",
    "3:'INSPECTION OVERRULED',\n",
    "4:'PASS',\n",
    "5:'PASS(CONDITIONAL)',\n",
    "6:'SHUT-DOWN'}\n",
    "sub_df = pd.DataFrame(predictions_test_lgb)\n",
    "sub_df.columns = [target_mapper[c] for c in sub_df.columns]\n",
    "sub_df.to_excel(\"food_quality_final_solution.xlsx\", index=False)"
   ]
  }
 ],
 "metadata": {
  "kernelspec": {
   "display_name": "Python 3",
   "language": "python",
   "name": "python3"
  },
  "language_info": {
   "codemirror_mode": {
    "name": "ipython",
    "version": 3
   },
   "file_extension": ".py",
   "mimetype": "text/x-python",
   "name": "python",
   "nbconvert_exporter": "python",
   "pygments_lexer": "ipython3",
   "version": "3.6.6"
  },
  "widgets": {
   "application/vnd.jupyter.widget-state+json": {
    "state": {
     "072f2a77ae054e13b465ff204519bd74": {
      "model_module": "@jupyter-widgets/controls",
      "model_module_version": "1.5.0",
      "model_name": "HTMLModel",
      "state": {
       "_dom_classes": [],
       "_model_module": "@jupyter-widgets/controls",
       "_model_module_version": "1.5.0",
       "_model_name": "HTMLModel",
       "_view_count": null,
       "_view_module": "@jupyter-widgets/controls",
       "_view_module_version": "1.5.0",
       "_view_name": "HTMLView",
       "description": "",
       "description_tooltip": null,
       "layout": "IPY_MODEL_23635cc870e947f0a9b70008e96e6cd1",
       "placeholder": "​",
       "style": "IPY_MODEL_a6c3aa47e95c4f99a70b70c1b1af2658",
       "value": " 3/3 [01:49&lt;00:00, 36.58s/it]"
      }
     },
     "0cfa624cc8b64c4bac40856125ba6f15": {
      "model_module": "@jupyter-widgets/controls",
      "model_module_version": "1.5.0",
      "model_name": "FloatProgressModel",
      "state": {
       "_dom_classes": [],
       "_model_module": "@jupyter-widgets/controls",
       "_model_module_version": "1.5.0",
       "_model_name": "FloatProgressModel",
       "_view_count": null,
       "_view_module": "@jupyter-widgets/controls",
       "_view_module_version": "1.5.0",
       "_view_name": "ProgressView",
       "bar_style": "success",
       "description": "100%",
       "description_tooltip": null,
       "layout": "IPY_MODEL_fb0d0eb392d54b528a56507c53205076",
       "max": 3.0,
       "min": 0.0,
       "orientation": "horizontal",
       "style": "IPY_MODEL_818b9a164edc40ef8765e566170c778b",
       "value": 3.0
      }
     },
     "23635cc870e947f0a9b70008e96e6cd1": {
      "model_module": "@jupyter-widgets/base",
      "model_module_version": "1.2.0",
      "model_name": "LayoutModel",
      "state": {
       "_model_module": "@jupyter-widgets/base",
       "_model_module_version": "1.2.0",
       "_model_name": "LayoutModel",
       "_view_count": null,
       "_view_module": "@jupyter-widgets/base",
       "_view_module_version": "1.2.0",
       "_view_name": "LayoutView",
       "align_content": null,
       "align_items": null,
       "align_self": null,
       "border": null,
       "bottom": null,
       "display": null,
       "flex": null,
       "flex_flow": null,
       "grid_area": null,
       "grid_auto_columns": null,
       "grid_auto_flow": null,
       "grid_auto_rows": null,
       "grid_column": null,
       "grid_gap": null,
       "grid_row": null,
       "grid_template_areas": null,
       "grid_template_columns": null,
       "grid_template_rows": null,
       "height": null,
       "justify_content": null,
       "justify_items": null,
       "left": null,
       "margin": null,
       "max_height": null,
       "max_width": null,
       "min_height": null,
       "min_width": null,
       "object_fit": null,
       "object_position": null,
       "order": null,
       "overflow": null,
       "overflow_x": null,
       "overflow_y": null,
       "padding": null,
       "right": null,
       "top": null,
       "visibility": null,
       "width": null
      }
     },
     "2bb483f008b7484898e3b57fe30bdec3": {
      "model_module": "@jupyter-widgets/base",
      "model_module_version": "1.2.0",
      "model_name": "LayoutModel",
      "state": {
       "_model_module": "@jupyter-widgets/base",
       "_model_module_version": "1.2.0",
       "_model_name": "LayoutModel",
       "_view_count": null,
       "_view_module": "@jupyter-widgets/base",
       "_view_module_version": "1.2.0",
       "_view_name": "LayoutView",
       "align_content": null,
       "align_items": null,
       "align_self": null,
       "border": null,
       "bottom": null,
       "display": null,
       "flex": null,
       "flex_flow": null,
       "grid_area": null,
       "grid_auto_columns": null,
       "grid_auto_flow": null,
       "grid_auto_rows": null,
       "grid_column": null,
       "grid_gap": null,
       "grid_row": null,
       "grid_template_areas": null,
       "grid_template_columns": null,
       "grid_template_rows": null,
       "height": null,
       "justify_content": null,
       "justify_items": null,
       "left": null,
       "margin": null,
       "max_height": null,
       "max_width": null,
       "min_height": null,
       "min_width": null,
       "object_fit": null,
       "object_position": null,
       "order": null,
       "overflow": null,
       "overflow_x": null,
       "overflow_y": null,
       "padding": null,
       "right": null,
       "top": null,
       "visibility": null,
       "width": null
      }
     },
     "2e9941028eb64739a89a0e952e4c407d": {
      "model_module": "@jupyter-widgets/base",
      "model_module_version": "1.2.0",
      "model_name": "LayoutModel",
      "state": {
       "_model_module": "@jupyter-widgets/base",
       "_model_module_version": "1.2.0",
       "_model_name": "LayoutModel",
       "_view_count": null,
       "_view_module": "@jupyter-widgets/base",
       "_view_module_version": "1.2.0",
       "_view_name": "LayoutView",
       "align_content": null,
       "align_items": null,
       "align_self": null,
       "border": null,
       "bottom": null,
       "display": null,
       "flex": null,
       "flex_flow": null,
       "grid_area": null,
       "grid_auto_columns": null,
       "grid_auto_flow": null,
       "grid_auto_rows": null,
       "grid_column": null,
       "grid_gap": null,
       "grid_row": null,
       "grid_template_areas": null,
       "grid_template_columns": null,
       "grid_template_rows": null,
       "height": null,
       "justify_content": null,
       "justify_items": null,
       "left": null,
       "margin": null,
       "max_height": null,
       "max_width": null,
       "min_height": null,
       "min_width": null,
       "object_fit": null,
       "object_position": null,
       "order": null,
       "overflow": null,
       "overflow_x": null,
       "overflow_y": null,
       "padding": null,
       "right": null,
       "top": null,
       "visibility": null,
       "width": null
      }
     },
     "36ce5769275f4c06ac88dd5e7c58a0c8": {
      "model_module": "@jupyter-widgets/controls",
      "model_module_version": "1.5.0",
      "model_name": "HBoxModel",
      "state": {
       "_dom_classes": [],
       "_model_module": "@jupyter-widgets/controls",
       "_model_module_version": "1.5.0",
       "_model_name": "HBoxModel",
       "_view_count": null,
       "_view_module": "@jupyter-widgets/controls",
       "_view_module_version": "1.5.0",
       "_view_name": "HBoxView",
       "box_style": "",
       "children": [
        "IPY_MODEL_c978d7a08e83499fb13fccf3a1c77bda",
        "IPY_MODEL_f133b364c5bd4aad856b689ce8fc5c3c"
       ],
       "layout": "IPY_MODEL_2bb483f008b7484898e3b57fe30bdec3"
      }
     },
     "5a3e3309f69b470ab57ffb3171bd81e2": {
      "model_module": "@jupyter-widgets/controls",
      "model_module_version": "1.5.0",
      "model_name": "HBoxModel",
      "state": {
       "_dom_classes": [],
       "_model_module": "@jupyter-widgets/controls",
       "_model_module_version": "1.5.0",
       "_model_name": "HBoxModel",
       "_view_count": null,
       "_view_module": "@jupyter-widgets/controls",
       "_view_module_version": "1.5.0",
       "_view_name": "HBoxView",
       "box_style": "",
       "children": [
        "IPY_MODEL_c1666bee561a44f48c74e84c6fb6609a",
        "IPY_MODEL_072f2a77ae054e13b465ff204519bd74"
       ],
       "layout": "IPY_MODEL_7d8875d09cad4fd385e9e2b8a470eeed"
      }
     },
     "6f30f3149ba545e78e669b204ba0b130": {
      "model_module": "@jupyter-widgets/controls",
      "model_module_version": "1.5.0",
      "model_name": "ProgressStyleModel",
      "state": {
       "_model_module": "@jupyter-widgets/controls",
       "_model_module_version": "1.5.0",
       "_model_name": "ProgressStyleModel",
       "_view_count": null,
       "_view_module": "@jupyter-widgets/base",
       "_view_module_version": "1.2.0",
       "_view_name": "StyleView",
       "bar_color": null,
       "description_width": "initial"
      }
     },
     "73c67a5333fb4fde833b71925e394148": {
      "model_module": "@jupyter-widgets/base",
      "model_module_version": "1.2.0",
      "model_name": "LayoutModel",
      "state": {
       "_model_module": "@jupyter-widgets/base",
       "_model_module_version": "1.2.0",
       "_model_name": "LayoutModel",
       "_view_count": null,
       "_view_module": "@jupyter-widgets/base",
       "_view_module_version": "1.2.0",
       "_view_name": "LayoutView",
       "align_content": null,
       "align_items": null,
       "align_self": null,
       "border": null,
       "bottom": null,
       "display": null,
       "flex": null,
       "flex_flow": null,
       "grid_area": null,
       "grid_auto_columns": null,
       "grid_auto_flow": null,
       "grid_auto_rows": null,
       "grid_column": null,
       "grid_gap": null,
       "grid_row": null,
       "grid_template_areas": null,
       "grid_template_columns": null,
       "grid_template_rows": null,
       "height": null,
       "justify_content": null,
       "justify_items": null,
       "left": null,
       "margin": null,
       "max_height": null,
       "max_width": null,
       "min_height": null,
       "min_width": null,
       "object_fit": null,
       "object_position": null,
       "order": null,
       "overflow": null,
       "overflow_x": null,
       "overflow_y": null,
       "padding": null,
       "right": null,
       "top": null,
       "visibility": null,
       "width": null
      }
     },
     "7cc04d75a4f9471a85076370bfdc7230": {
      "model_module": "@jupyter-widgets/base",
      "model_module_version": "1.2.0",
      "model_name": "LayoutModel",
      "state": {
       "_model_module": "@jupyter-widgets/base",
       "_model_module_version": "1.2.0",
       "_model_name": "LayoutModel",
       "_view_count": null,
       "_view_module": "@jupyter-widgets/base",
       "_view_module_version": "1.2.0",
       "_view_name": "LayoutView",
       "align_content": null,
       "align_items": null,
       "align_self": null,
       "border": null,
       "bottom": null,
       "display": null,
       "flex": null,
       "flex_flow": null,
       "grid_area": null,
       "grid_auto_columns": null,
       "grid_auto_flow": null,
       "grid_auto_rows": null,
       "grid_column": null,
       "grid_gap": null,
       "grid_row": null,
       "grid_template_areas": null,
       "grid_template_columns": null,
       "grid_template_rows": null,
       "height": null,
       "justify_content": null,
       "justify_items": null,
       "left": null,
       "margin": null,
       "max_height": null,
       "max_width": null,
       "min_height": null,
       "min_width": null,
       "object_fit": null,
       "object_position": null,
       "order": null,
       "overflow": null,
       "overflow_x": null,
       "overflow_y": null,
       "padding": null,
       "right": null,
       "top": null,
       "visibility": null,
       "width": null
      }
     },
     "7d8875d09cad4fd385e9e2b8a470eeed": {
      "model_module": "@jupyter-widgets/base",
      "model_module_version": "1.2.0",
      "model_name": "LayoutModel",
      "state": {
       "_model_module": "@jupyter-widgets/base",
       "_model_module_version": "1.2.0",
       "_model_name": "LayoutModel",
       "_view_count": null,
       "_view_module": "@jupyter-widgets/base",
       "_view_module_version": "1.2.0",
       "_view_name": "LayoutView",
       "align_content": null,
       "align_items": null,
       "align_self": null,
       "border": null,
       "bottom": null,
       "display": null,
       "flex": null,
       "flex_flow": null,
       "grid_area": null,
       "grid_auto_columns": null,
       "grid_auto_flow": null,
       "grid_auto_rows": null,
       "grid_column": null,
       "grid_gap": null,
       "grid_row": null,
       "grid_template_areas": null,
       "grid_template_columns": null,
       "grid_template_rows": null,
       "height": null,
       "justify_content": null,
       "justify_items": null,
       "left": null,
       "margin": null,
       "max_height": null,
       "max_width": null,
       "min_height": null,
       "min_width": null,
       "object_fit": null,
       "object_position": null,
       "order": null,
       "overflow": null,
       "overflow_x": null,
       "overflow_y": null,
       "padding": null,
       "right": null,
       "top": null,
       "visibility": null,
       "width": null
      }
     },
     "818b9a164edc40ef8765e566170c778b": {
      "model_module": "@jupyter-widgets/controls",
      "model_module_version": "1.5.0",
      "model_name": "ProgressStyleModel",
      "state": {
       "_model_module": "@jupyter-widgets/controls",
       "_model_module_version": "1.5.0",
       "_model_name": "ProgressStyleModel",
       "_view_count": null,
       "_view_module": "@jupyter-widgets/base",
       "_view_module_version": "1.2.0",
       "_view_name": "StyleView",
       "bar_color": null,
       "description_width": "initial"
      }
     },
     "88d8f3eb94e94874b368a5d7b976ffbe": {
      "model_module": "@jupyter-widgets/controls",
      "model_module_version": "1.5.0",
      "model_name": "ProgressStyleModel",
      "state": {
       "_model_module": "@jupyter-widgets/controls",
       "_model_module_version": "1.5.0",
       "_model_name": "ProgressStyleModel",
       "_view_count": null,
       "_view_module": "@jupyter-widgets/base",
       "_view_module_version": "1.2.0",
       "_view_name": "StyleView",
       "bar_color": null,
       "description_width": "initial"
      }
     },
     "9b5bb9bcf22a474aae0653cdd3e48b49": {
      "model_module": "@jupyter-widgets/controls",
      "model_module_version": "1.5.0",
      "model_name": "HBoxModel",
      "state": {
       "_dom_classes": [],
       "_model_module": "@jupyter-widgets/controls",
       "_model_module_version": "1.5.0",
       "_model_name": "HBoxModel",
       "_view_count": null,
       "_view_module": "@jupyter-widgets/controls",
       "_view_module_version": "1.5.0",
       "_view_name": "HBoxView",
       "box_style": "",
       "children": [
        "IPY_MODEL_0cfa624cc8b64c4bac40856125ba6f15",
        "IPY_MODEL_c5cf80e2241c4aa2bc88f80bb256ab4c"
       ],
       "layout": "IPY_MODEL_ff2e577d35d54531a1be5a1320c4b352"
      }
     },
     "a6c3aa47e95c4f99a70b70c1b1af2658": {
      "model_module": "@jupyter-widgets/controls",
      "model_module_version": "1.5.0",
      "model_name": "DescriptionStyleModel",
      "state": {
       "_model_module": "@jupyter-widgets/controls",
       "_model_module_version": "1.5.0",
       "_model_name": "DescriptionStyleModel",
       "_view_count": null,
       "_view_module": "@jupyter-widgets/base",
       "_view_module_version": "1.2.0",
       "_view_name": "StyleView",
       "description_width": ""
      }
     },
     "c1666bee561a44f48c74e84c6fb6609a": {
      "model_module": "@jupyter-widgets/controls",
      "model_module_version": "1.5.0",
      "model_name": "FloatProgressModel",
      "state": {
       "_dom_classes": [],
       "_model_module": "@jupyter-widgets/controls",
       "_model_module_version": "1.5.0",
       "_model_name": "FloatProgressModel",
       "_view_count": null,
       "_view_module": "@jupyter-widgets/controls",
       "_view_module_version": "1.5.0",
       "_view_name": "ProgressView",
       "bar_style": "success",
       "description": "100%",
       "description_tooltip": null,
       "layout": "IPY_MODEL_73c67a5333fb4fde833b71925e394148",
       "max": 3.0,
       "min": 0.0,
       "orientation": "horizontal",
       "style": "IPY_MODEL_6f30f3149ba545e78e669b204ba0b130",
       "value": 3.0
      }
     },
     "c17d0d4723b6440998c5cc1ebd1c3079": {
      "model_module": "@jupyter-widgets/controls",
      "model_module_version": "1.5.0",
      "model_name": "DescriptionStyleModel",
      "state": {
       "_model_module": "@jupyter-widgets/controls",
       "_model_module_version": "1.5.0",
       "_model_name": "DescriptionStyleModel",
       "_view_count": null,
       "_view_module": "@jupyter-widgets/base",
       "_view_module_version": "1.2.0",
       "_view_name": "StyleView",
       "description_width": ""
      }
     },
     "c5cf80e2241c4aa2bc88f80bb256ab4c": {
      "model_module": "@jupyter-widgets/controls",
      "model_module_version": "1.5.0",
      "model_name": "HTMLModel",
      "state": {
       "_dom_classes": [],
       "_model_module": "@jupyter-widgets/controls",
       "_model_module_version": "1.5.0",
       "_model_name": "HTMLModel",
       "_view_count": null,
       "_view_module": "@jupyter-widgets/controls",
       "_view_module_version": "1.5.0",
       "_view_name": "HTMLView",
       "description": "",
       "description_tooltip": null,
       "layout": "IPY_MODEL_2e9941028eb64739a89a0e952e4c407d",
       "placeholder": "​",
       "style": "IPY_MODEL_fcc2c5c8a4404b42850fe7396dca29ff",
       "value": " 3/3 [01:45&lt;00:00, 35.32s/it]"
      }
     },
     "c978d7a08e83499fb13fccf3a1c77bda": {
      "model_module": "@jupyter-widgets/controls",
      "model_module_version": "1.5.0",
      "model_name": "FloatProgressModel",
      "state": {
       "_dom_classes": [],
       "_model_module": "@jupyter-widgets/controls",
       "_model_module_version": "1.5.0",
       "_model_name": "FloatProgressModel",
       "_view_count": null,
       "_view_module": "@jupyter-widgets/controls",
       "_view_module_version": "1.5.0",
       "_view_name": "ProgressView",
       "bar_style": "success",
       "description": "100%",
       "description_tooltip": null,
       "layout": "IPY_MODEL_fb10d8b28f904ee7bcb4937e40ec4f93",
       "max": 7.0,
       "min": 0.0,
       "orientation": "horizontal",
       "style": "IPY_MODEL_88d8f3eb94e94874b368a5d7b976ffbe",
       "value": 7.0
      }
     },
     "f133b364c5bd4aad856b689ce8fc5c3c": {
      "model_module": "@jupyter-widgets/controls",
      "model_module_version": "1.5.0",
      "model_name": "HTMLModel",
      "state": {
       "_dom_classes": [],
       "_model_module": "@jupyter-widgets/controls",
       "_model_module_version": "1.5.0",
       "_model_name": "HTMLModel",
       "_view_count": null,
       "_view_module": "@jupyter-widgets/controls",
       "_view_module_version": "1.5.0",
       "_view_name": "HTMLView",
       "description": "",
       "description_tooltip": null,
       "layout": "IPY_MODEL_7cc04d75a4f9471a85076370bfdc7230",
       "placeholder": "​",
       "style": "IPY_MODEL_c17d0d4723b6440998c5cc1ebd1c3079",
       "value": " 7/7 [00:10&lt;00:00,  1.43s/it]"
      }
     },
     "fb0d0eb392d54b528a56507c53205076": {
      "model_module": "@jupyter-widgets/base",
      "model_module_version": "1.2.0",
      "model_name": "LayoutModel",
      "state": {
       "_model_module": "@jupyter-widgets/base",
       "_model_module_version": "1.2.0",
       "_model_name": "LayoutModel",
       "_view_count": null,
       "_view_module": "@jupyter-widgets/base",
       "_view_module_version": "1.2.0",
       "_view_name": "LayoutView",
       "align_content": null,
       "align_items": null,
       "align_self": null,
       "border": null,
       "bottom": null,
       "display": null,
       "flex": null,
       "flex_flow": null,
       "grid_area": null,
       "grid_auto_columns": null,
       "grid_auto_flow": null,
       "grid_auto_rows": null,
       "grid_column": null,
       "grid_gap": null,
       "grid_row": null,
       "grid_template_areas": null,
       "grid_template_columns": null,
       "grid_template_rows": null,
       "height": null,
       "justify_content": null,
       "justify_items": null,
       "left": null,
       "margin": null,
       "max_height": null,
       "max_width": null,
       "min_height": null,
       "min_width": null,
       "object_fit": null,
       "object_position": null,
       "order": null,
       "overflow": null,
       "overflow_x": null,
       "overflow_y": null,
       "padding": null,
       "right": null,
       "top": null,
       "visibility": null,
       "width": null
      }
     },
     "fb10d8b28f904ee7bcb4937e40ec4f93": {
      "model_module": "@jupyter-widgets/base",
      "model_module_version": "1.2.0",
      "model_name": "LayoutModel",
      "state": {
       "_model_module": "@jupyter-widgets/base",
       "_model_module_version": "1.2.0",
       "_model_name": "LayoutModel",
       "_view_count": null,
       "_view_module": "@jupyter-widgets/base",
       "_view_module_version": "1.2.0",
       "_view_name": "LayoutView",
       "align_content": null,
       "align_items": null,
       "align_self": null,
       "border": null,
       "bottom": null,
       "display": null,
       "flex": null,
       "flex_flow": null,
       "grid_area": null,
       "grid_auto_columns": null,
       "grid_auto_flow": null,
       "grid_auto_rows": null,
       "grid_column": null,
       "grid_gap": null,
       "grid_row": null,
       "grid_template_areas": null,
       "grid_template_columns": null,
       "grid_template_rows": null,
       "height": null,
       "justify_content": null,
       "justify_items": null,
       "left": null,
       "margin": null,
       "max_height": null,
       "max_width": null,
       "min_height": null,
       "min_width": null,
       "object_fit": null,
       "object_position": null,
       "order": null,
       "overflow": null,
       "overflow_x": null,
       "overflow_y": null,
       "padding": null,
       "right": null,
       "top": null,
       "visibility": null,
       "width": null
      }
     },
     "fcc2c5c8a4404b42850fe7396dca29ff": {
      "model_module": "@jupyter-widgets/controls",
      "model_module_version": "1.5.0",
      "model_name": "DescriptionStyleModel",
      "state": {
       "_model_module": "@jupyter-widgets/controls",
       "_model_module_version": "1.5.0",
       "_model_name": "DescriptionStyleModel",
       "_view_count": null,
       "_view_module": "@jupyter-widgets/base",
       "_view_module_version": "1.2.0",
       "_view_name": "StyleView",
       "description_width": ""
      }
     },
     "ff2e577d35d54531a1be5a1320c4b352": {
      "model_module": "@jupyter-widgets/base",
      "model_module_version": "1.2.0",
      "model_name": "LayoutModel",
      "state": {
       "_model_module": "@jupyter-widgets/base",
       "_model_module_version": "1.2.0",
       "_model_name": "LayoutModel",
       "_view_count": null,
       "_view_module": "@jupyter-widgets/base",
       "_view_module_version": "1.2.0",
       "_view_name": "LayoutView",
       "align_content": null,
       "align_items": null,
       "align_self": null,
       "border": null,
       "bottom": null,
       "display": null,
       "flex": null,
       "flex_flow": null,
       "grid_area": null,
       "grid_auto_columns": null,
       "grid_auto_flow": null,
       "grid_auto_rows": null,
       "grid_column": null,
       "grid_gap": null,
       "grid_row": null,
       "grid_template_areas": null,
       "grid_template_columns": null,
       "grid_template_rows": null,
       "height": null,
       "justify_content": null,
       "justify_items": null,
       "left": null,
       "margin": null,
       "max_height": null,
       "max_width": null,
       "min_height": null,
       "min_width": null,
       "object_fit": null,
       "object_position": null,
       "order": null,
       "overflow": null,
       "overflow_x": null,
       "overflow_y": null,
       "padding": null,
       "right": null,
       "top": null,
       "visibility": null,
       "width": null
      }
     }
    },
    "version_major": 2,
    "version_minor": 0
   }
  }
 },
 "nbformat": 4,
 "nbformat_minor": 4
}
